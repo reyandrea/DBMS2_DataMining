{
 "cells": [
  {
   "cell_type": "markdown",
   "metadata": {},
   "source": [
    "# Classification"
   ]
  },
  {
   "cell_type": "code",
   "execution_count": 1,
   "metadata": {},
   "outputs": [],
   "source": [
    "#import necessary libraries\n",
    "import pandas as pd\n",
    "import numpy as np\n",
    "import matplotlib.pyplot as plt\n",
    "import seaborn as sns"
   ]
  },
  {
   "cell_type": "markdown",
   "metadata": {},
   "source": [
    "# 1. Visegrad Group Companies Dataset\n",
    "\n",
    "We use Visegrad Group Companies dataset for our clustering.\n",
    "We first import the dataset as follows.\n",
    "\n",
    "https://archive.ics.uci.edu/dataset/830/visegrad+group+companies+data-2\n"
   ]
  },
  {
   "cell_type": "markdown",
   "metadata": {},
   "source": [
    "X1: Net profit/total assets <br/>\n",
    "X2: Total liabilities/total assets <br/>\n",
    "X3: Working capital/total assets <br/>\n",
    "X4: Current assets/short-term liabilities <br/>\n",
    "X5: Retained earnings/total assets <br/>\n",
    "X6: Gross profit/total assets <br/>\n",
    "X7: Book value of equity/total liabilities <br/>\n",
    "X8: Net sales revenue/total assets <br/>\n",
    "X9: Equity/total assets <br/>\n",
    "X10: (Gross profit + financial expenses)/total assets <br/>\n",
    "X11: Gross profit/short-term liabilities <br/>\n",
    "X12: (Gross profit + depreciation)/sales revenues <br/>\n",
    "X13: EBIT/total operating costs <br/>\n",
    "X14: (Gross profit + depreciation)/total liabilities <br/>\n",
    "X15: Total assets/total liabilities <br/>\n",
    "X16: EBIT/total liabilities <br/>\n",
    "X17: Gross profit/sales revenues <br/>\n",
    "X18: EBIT/total assets <br/>\n",
    "X19: Net profit/sales revenues <br/>\n",
    "X20: (Equity-share capital)/total assets <br/>\n",
    "X21: (Net profit + depreciation)/total liabilities <br/>\n",
    "X22: EBIT/financial expenses <br/>\n",
    "X23: Working capital/fixed assets <br/>\n",
    "X24: Logarithm of total assets <br/>\n",
    "X25: (Total liabilities-cash)/sales revenues <br/>\n",
    "X26: EBIT/equity <br/>\n",
    "X27: Operating expenses/short-term liabilities <br/>\n",
    "X28: Operating expenses/total liabilities <br/>\n",
    "X29: Profit on sales/total assets <br/>\n",
    "X30: Total operating revenue/total assets <br/>\n",
    "X31: (Current assets-inventories)/long-term liabilities <br/>\n",
    "X32: Constant capital/total assets <br/>\n",
    "X33: Profit on sales/sales revenues <br/>\n",
    "X34: (Current assets-inventory-receivables)/short-term liabilities <br/>\n",
    "X35: EBIT/sales revenues <br/>\n",
    "X36: Net profit/inventory <br/>\n",
    "X37: (Current assets-inventory)/short-term liabilities <br/>\n",
    "X38: EBITDA/total assets <br/>\n",
    "X39: EBITDA/sales revenues <br/>\n",
    "X40: Current assets/total liabilities <br/>\n",
    "X41: Short-term liabilities/total assets <br/>\n",
    "X42: Equity/fixed assets <br/>\n",
    "X43: Constant capital/fixed assets <br/>\n",
    "X44: Working capital <br/>\n",
    "X45: Net profit/equity <br/>\n",
    "X46: Long-term liabilities/equity <br/>\n",
    "X47: Sales revenues/inventory <br/>\n",
    "X48: Sales revenues/receivables <br/>\n",
    "X49: Sales revenues/short-term liabilities <br/>\n",
    "X50: Sales/fixed assets <br/>\n",
    "X51: (Current assets-inventory-short-term liabilities)/(total operating revenues-profit before income tax-depreciation) <br/>\n",
    "X52: Net profit/net cash flow from (used in) operating activities <br/>\n",
    "X53: Depreciation/net cash flow from (used in) operating activities <br/>\n",
    "X54: Net cash flow from (used in) operating activities/total assets <br/>\n",
    "X55: Net cash flow from (used in) operating activities/income <br/>\n",
    "X56: Net cash flow from (used in) operating activities/total liabilities <br/>\n",
    "X57: Net cash flow from (used in) operating activities/long-term liabilities <br/>\n",
    "X58: Net cash flow from (used in) operating activities/short-term liabilities <br/>\n",
    "X59: Net cash flow <br/>\n",
    "X60: Net cash flow from (used in) operating activities/current assets <br/>\n",
    "X61: Net cash flow from (used in) operating activities/EBIT <br/>\n",
    "X62: Net profit per share <br/>\n",
    "X63: Income/outstanding shares <br/>\n",
    "X64: Price per share/net profit per share <br/>\n",
    "X65: Yearly dividend/price per share <br/>\n",
    "X66: Market capitalization/book value <br/>\n",
    "X67: Market capitalization/gross profit <br/>\n",
    "X68: Market capitalization/EBITDA <br/>\n",
    "X69: Market capitalization to EBIT <br/>\n",
    "X70: Market capitalization to total assets <br/>\n",
    "X71: Market capitalization/capital employed <br/>\n",
    "X72: Sales revenues (n)/sales revenues (n−1) <br/>\n",
    "X73: Total sales revenue (n)/total sales revenues (n−1) <br/>\n",
    "X74: Total assets (n)/total assets (n−1) <br/>\n",
    "X75: Current assets (n)/current assets (n−1) <br/>\n",
    "X76: EBIT (n)/EBIT (n−1) <br/>\n",
    "X77: Net profit (n)/net profit (n−1) <br/>\n",
    "X78: Inventory (n)/inventory (n−1) <br/>\n",
    "X79: Receivables (n)/receivables (n−1) <br/>\n",
    "X80: Short-term liabilities (n)/short-term liabilities (n−1) <br/>\n",
    "X81: Net cash flow from (used in) operating activities (n)/Net cash flow from (used in) operating activities (n−1) <br/>\n",
    "X82: Net cash flow(n)/net cash flow (n−1) <br/>\n",
    "\n",
    "<br/>\n",
    "Class Labels <br/>\n",
    "(S): 1. Transportation and warehousing; 2. Wholesale trade; <br/>\n",
    "3. Manufacturing; 4. Retail trade; 5. Energy; 6. Construction.\n"
   ]
  },
  {
   "cell_type": "code",
   "execution_count": 10,
   "metadata": {},
   "outputs": [
    {
     "name": "stdout",
     "output_type": "stream",
     "text": [
      "   id  Num  Country     X1    X2     X3    X4   X5     X6    X7  ...   X74  \\\n",
      "0   1   10  Hungary      m     m      m     m    m      m     m  ...     0   \n",
      "1   2   22   Poland      0     0      0     0    0      0     0  ...     0   \n",
      "2   3   27  Hungary  -0.04  0.83  -0.08  0.83    0  -0.03  0.21  ...  0.82   \n",
      "3   4   73   Poland   0.01  0.73   0.04  1.06  0.1   0.01  0.37  ...  0.87   \n",
      "4   5   74   Poland      0     0      0     0    0      0     0  ...     0   \n",
      "\n",
      "    X75   X76     X77   X78   X79   X80    X81   X82  S  \n",
      "0     0     0       m     0     0     0      m     m  1  \n",
      "1     0     0       0     0     0     0      0     0  1  \n",
      "2  0.92  1.16  110.93  0.85  0.96  0.91      m     m  1  \n",
      "3  0.82  -0.1    1.09  0.62  0.97  0.78  -1.03  1.34  1  \n",
      "4     0     0       0     0     0     0      0     0  1  \n",
      "\n",
      "[5 rows x 86 columns]\n",
      "Index(['id', 'Num', 'Country', 'X1', 'X2', 'X3', 'X4', 'X5', 'X6', 'X7', 'X8',\n",
      "       'X9', 'X10', 'X11', 'X12', 'X13', 'X14', 'X15', 'X16', 'X17', 'X18',\n",
      "       'X19', 'X20', 'X21', 'X22', 'X23', 'X24', 'X25', 'X26', 'X27', 'X28',\n",
      "       'X29', 'X30', 'X31', 'X32', 'X33', 'X34', 'X35', 'X36', 'X37', 'X38',\n",
      "       'X39', 'X40', 'X41', 'X42', 'X43', 'X44', 'X45', 'X46', 'X47', 'X48',\n",
      "       'X49', 'X50', 'X51', 'X52', 'X53', 'X54', 'X55', 'X56', 'X57', 'X58',\n",
      "       'X59', 'X60', 'X61', 'X62', 'X63', 'X64', 'X65', 'X66', 'X67', 'X68',\n",
      "       'X69', 'X70', 'X71', 'X72', 'X73', 'X74', 'X75', 'X76', 'X77', 'X78',\n",
      "       'X79', 'X80', 'X81', 'X82', 'S'],\n",
      "      dtype='object')\n"
     ]
    }
   ],
   "source": [
    "# Replace 'your_file.csv' with the path to your CSV file\n",
    "df = pd.read_csv('csv_result-2019.csv')\n",
    "\n",
    "# Display the DataFrame\n",
    "print(df.head())  # Show the first few rows\n",
    "print(df.columns)"
   ]
  },
  {
   "cell_type": "markdown",
   "metadata": {},
   "source": [
    "# 2. Data Preprocessing"
   ]
  },
  {
   "cell_type": "code",
   "execution_count": null,
   "metadata": {},
   "outputs": [],
   "source": []
  },
  {
   "cell_type": "markdown",
   "metadata": {},
   "source": [
    "# 3. Classification"
   ]
  },
  {
   "cell_type": "code",
   "execution_count": null,
   "metadata": {},
   "outputs": [],
   "source": []
  },
  {
   "cell_type": "code",
   "execution_count": null,
   "metadata": {},
   "outputs": [],
   "source": []
  },
  {
   "cell_type": "markdown",
   "metadata": {},
   "source": []
  }
 ],
 "metadata": {
  "kernelspec": {
   "display_name": "Python 3",
   "language": "python",
   "name": "python3"
  },
  "language_info": {
   "codemirror_mode": {
    "name": "ipython",
    "version": 3
   },
   "file_extension": ".py",
   "mimetype": "text/x-python",
   "name": "python",
   "nbconvert_exporter": "python",
   "pygments_lexer": "ipython3",
   "version": "3.12.0"
  }
 },
 "nbformat": 4,
 "nbformat_minor": 2
}
