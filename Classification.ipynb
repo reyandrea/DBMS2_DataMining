{
 "cells": [
  {
   "cell_type": "markdown",
   "metadata": {},
   "source": [
    "# Classification"
   ]
  },
  {
   "cell_type": "code",
   "execution_count": null,
   "metadata": {},
   "outputs": [],
   "source": [
    "#import necessary libraries\n",
    "import pandas as pd\n",
    "import numpy as np\n",
    "import matplotlib.pyplot as plt\n",
    "import seaborn as sns"
   ]
  },
  {
   "cell_type": "markdown",
   "metadata": {},
   "source": [
    "# 1. Visegrad Group Companies Dataset\n",
    "\n",
    "We use Visegrad Group Companies dataset for our clustering.\n",
    "We first import the dataset as follows.\n",
    "\n",
    "https://archive.ics.uci.edu/dataset/830/visegrad+group+companies+data-2\n"
   ]
  },
  {
   "cell_type": "markdown",
   "metadata": {},
   "source": [
    "X1: Net profit/total assets <br/>\n",
    "X2: Total liabilities/total assets <br/>\n",
    "X3: Working capital/total assets <br/>\n",
    "X4: Current assets/short-term liabilities <br/>\n",
    "X5: Retained earnings/total assets <br/>\n",
    "X6: Gross profit/total assets <br/>\n",
    "X7: Book value of equity/total liabilities <br/>\n",
    "X8: Net sales revenue/total assets <br/>\n",
    "X9: Equity/total assets <br/>\n",
    "X10: (Gross profit + financial expenses)/total assets <br/>\n",
    "X11: Gross profit/short-term liabilities <br/>\n",
    "X12: (Gross profit + depreciation)/sales revenues <br/>\n",
    "X13: EBIT/total operating costs <br/>\n",
    "X14: (Gross profit + depreciation)/total liabilities <br/>\n",
    "X15: Total assets/total liabilities <br/>\n",
    "X16: EBIT/total liabilities <br/>\n",
    "X17: Gross profit/sales revenues <br/>\n",
    "X18: EBIT/total assets <br/>\n",
    "X19: Net profit/sales revenues <br/>\n",
    "X20: (Equity-share capital)/total assets <br/>\n",
    "X21: (Net profit + depreciation)/total liabilities <br/>\n",
    "X22: EBIT/financial expenses <br/>\n",
    "X23: Working capital/fixed assets <br/>\n",
    "X24: Logarithm of total assets <br/>\n",
    "X25: (Total liabilities-cash)/sales revenues <br/>\n",
    "X26: EBIT/equity <br/>\n",
    "X27: Operating expenses/short-term liabilities <br/>\n",
    "X28: Operating expenses/total liabilities <br/>\n",
    "X29: Profit on sales/total assets <br/>\n",
    "X30: Total operating revenue/total assets <br/>\n",
    "X31: (Current assets-inventories)/long-term liabilities <br/>\n",
    "X32: Constant capital/total assets <br/>\n",
    "X33: Profit on sales/sales revenues <br/>\n",
    "X34: (Current assets-inventory-receivables)/short-term liabilities <br/>\n",
    "X35: EBIT/sales revenues <br/>\n",
    "X36: Net profit/inventory <br/>\n",
    "X37: (Current assets-inventory)/short-term liabilities <br/>\n",
    "X38: EBITDA/total assets <br/>\n",
    "X39: EBITDA/sales revenues <br/>\n",
    "X40: Current assets/total liabilities <br/>\n",
    "X41: Short-term liabilities/total assets <br/>\n",
    "X42: Equity/fixed assets <br/>\n",
    "X43: Constant capital/fixed assets <br/>\n",
    "X44: Working capital <br/>\n",
    "X45: Net profit/equity <br/>\n",
    "X46: Long-term liabilities/equity <br/>\n",
    "X47: Sales revenues/inventory <br/>\n",
    "X48: Sales revenues/receivables <br/>\n",
    "X49: Sales revenues/short-term liabilities <br/>\n",
    "X50: Sales/fixed assets <br/>\n",
    "X51: (Current assets-inventory-short-term liabilities)/(total operating revenues-profit before income tax-depreciation) <br/>\n",
    "X52: Net profit/net cash flow from (used in) operating activities <br/>\n",
    "X53: Depreciation/net cash flow from (used in) operating activities <br/>\n",
    "X54: Net cash flow from (used in) operating activities/total assets <br/>\n",
    "X55: Net cash flow from (used in) operating activities/income <br/>\n",
    "X56: Net cash flow from (used in) operating activities/total liabilities <br/>\n",
    "X57: Net cash flow from (used in) operating activities/long-term liabilities <br/>\n",
    "X58: Net cash flow from (used in) operating activities/short-term liabilities <br/>\n",
    "X59: Net cash flow <br/>\n",
    "X60: Net cash flow from (used in) operating activities/current assets <br/>\n",
    "X61: Net cash flow from (used in) operating activities/EBIT <br/>\n",
    "X62: Net profit per share <br/>\n",
    "X63: Income/outstanding shares <br/>\n",
    "X64: Price per share/net profit per share <br/>\n",
    "X65: Yearly dividend/price per share <br/>\n",
    "X66: Market capitalization/book value <br/>\n",
    "X67: Market capitalization/gross profit <br/>\n",
    "X68: Market capitalization/EBITDA <br/>\n",
    "X69: Market capitalization to EBIT <br/>\n",
    "X70: Market capitalization to total assets <br/>\n",
    "X71: Market capitalization/capital employed <br/>\n",
    "X72: Sales revenues (n)/sales revenues (n−1) <br/>\n",
    "X73: Total sales revenue (n)/total sales revenues (n−1) <br/>\n",
    "X74: Total assets (n)/total assets (n−1) <br/>\n",
    "X75: Current assets (n)/current assets (n−1) <br/>\n",
    "X76: EBIT (n)/EBIT (n−1) <br/>\n",
    "X77: Net profit (n)/net profit (n−1) <br/>\n",
    "X78: Inventory (n)/inventory (n−1) <br/>\n",
    "X79: Receivables (n)/receivables (n−1) <br/>\n",
    "X80: Short-term liabilities (n)/short-term liabilities (n−1) <br/>\n",
    "X81: Net cash flow from (used in) operating activities (n)/Net cash flow from (used in) operating activities (n−1) <br/>\n",
    "X82: Net cash flow(n)/net cash flow (n−1) <br/>\n",
    "\n",
    "<br/>\n",
    "Class Labels <br/>\n",
    "(S): 1. Transportation and warehousing; 2. Wholesale trade; <br/>\n",
    "3. Manufacturing; 4. Retail trade; 5. Energy; 6. Construction.\n"
   ]
  },
  {
   "cell_type": "markdown",
   "metadata": {},
   "source": [
    "### Import dataset"
   ]
  },
  {
   "cell_type": "code",
   "execution_count": null,
   "metadata": {},
   "outputs": [],
   "source": [
    "#importing dataset\n",
    "df_full = pd.read_csv('csv_result-2019.csv', header=\"infer\")\n",
    "\n",
    "df_full_copy = df_full.copy()\n",
    "\n",
    "# Display the DataFrame\n",
    "df_full_copy\n",
    "\n",
    "\n"
   ]
  },
  {
   "cell_type": "markdown",
   "metadata": {},
   "source": [
    "### Filter to select the 10 most important attributes to measure performance of a company\n",
    "\n",
    "to reduce the number of attributes we are working with for better visualisation\n",
    "\n",
    "X1: Net profit/total assets — Measures profitability relative to assets. </br>\n",
    "X6: Gross profit/total assets — Efficiency in using assets to generate profit.</br>\n",
    "X4: Current assets/short-term liabilities — Liquidity ratio indicating the ability to cover short-term obligations.</br>\n",
    "X7: Book value of equity/total liabilities — Financial leverage and ability to meet obligations with equity.</br>\n",
    "X19: Net profit/sales revenues — Profitability relative to revenue.</br>\n",
    "X2: Total liabilities/total assets — Leverage ratio, indicating the proportion of assets financed by debt.</br>\n",
    "X13: EBIT/total operating costs — Operational efficiency indicator.</br>\n",
    "X9: Equity/total assets — Shows how much of the company's assets are financed by equity.</br>\n",
    "X54: Net cash flow from operating activities/total assets — Operational cash flow efficiency.</br>\n",
    "X72: Sales revenues (n)/sales revenues (n−1) — Sales growth indicator.</br>"
   ]
  },
  {
   "cell_type": "code",
   "execution_count": null,
   "metadata": {},
   "outputs": [],
   "source": [
    "# Choose 10 key attributes that are most relevant for your analysis\n",
    "df = df_full_copy[['id', 'Num', 'Country', 'X1', 'X2', 'X4', 'X6', 'X7', 'X9', 'X13', 'X19', 'X54', 'X72','S']]"
   ]
  },
  {
   "cell_type": "markdown",
   "metadata": {},
   "source": [
    "# 2. Data Preprocessing"
   ]
  },
  {
   "cell_type": "code",
   "execution_count": null,
   "metadata": {},
   "outputs": [],
   "source": [
    "\n",
    "print('Number of instances = %d' % df.shape[0])\n",
    "print('Number of attributes = %d' % df.shape[1])\n",
    "df.head()\n",
    "print(df.dtypes)"
   ]
  },
  {
   "cell_type": "code",
   "execution_count": null,
   "metadata": {},
   "outputs": [],
   "source": [
    "# Converts to float, setting non-numeric to NaN\n",
    "\n",
    "df['X1'] = pd.to_numeric(df['X1'], errors='coerce')\n",
    "df['X2'] = pd.to_numeric(df['X2'], errors='coerce')\n",
    "df['X4'] = pd.to_numeric(df['X4'], errors='coerce')\n",
    "df['X6'] = pd.to_numeric(df['X6'], errors='coerce')\n",
    "df['X7'] = pd.to_numeric(df['X7'], errors='coerce')\n",
    "df['X9'] = pd.to_numeric(df['X9'], errors='coerce')\n",
    "df['X13'] = pd.to_numeric(df['X13'], errors='coerce')\n",
    "df['X19'] = pd.to_numeric(df['X19'], errors='coerce')\n",
    "df['X54'] = pd.to_numeric(df['X54'], errors='coerce')\n",
    "df['X72'] = pd.to_numeric(df['X72'], errors='coerce')\n",
    "\n",
    "\n",
    "df['S'] = df['S'].astype('category')\n",
    "# Convert 'Country' to categorical\n",
    "df['Country'] = df['Country'].astype('category')\n",
    "\n",
    "# Check data types to confirm\n",
    "print(df.dtypes)\n",
    "print(df['S'].cat.categories)"
   ]
  },
  {
   "cell_type": "markdown",
   "metadata": {},
   "source": [
    "### Missing Values\n"
   ]
  },
  {
   "cell_type": "code",
   "execution_count": null,
   "metadata": {},
   "outputs": [],
   "source": [
    "print('Number of instances = %d' % df.shape[0])\n",
    "print('Number of attributes = %d' % df.shape[1])\n",
    "\n",
    "print('Number of missing values:')\n",
    "for col in df.columns:\n",
    "    print('\\t%s: %d' % (col, df[col].isna().sum()))"
   ]
  },
  {
   "cell_type": "code",
   "execution_count": null,
   "metadata": {},
   "outputs": [],
   "source": [
    "print(df.head)"
   ]
  },
  {
   "cell_type": "code",
   "execution_count": null,
   "metadata": {},
   "outputs": [],
   "source": [
    "df_cleaned = df.dropna()"
   ]
  },
  {
   "cell_type": "code",
   "execution_count": null,
   "metadata": {},
   "outputs": [],
   "source": [
    "print('Number of instances = %d' % df_cleaned.shape[0])\n",
    "print('Number of attributes = %d' % df_cleaned.shape[1])\n",
    "\n",
    "print('Number of missing values:')\n",
    "for col in df_cleaned.columns:\n",
    "    print('\\t%s: %d' % (col, df_cleaned[col].isna().sum()))"
   ]
  },
  {
   "cell_type": "code",
   "execution_count": null,
   "metadata": {},
   "outputs": [],
   "source": [
    "print(df_cleaned.head)"
   ]
  },
  {
   "cell_type": "code",
   "execution_count": null,
   "metadata": {},
   "outputs": [],
   "source": [
    "#drop id and Num\n",
    "data2 = df_cleaned.drop(['id','Country', 'Num',\"S\"], axis=1)\n",
    "data2\n",
    "\n",
    "#show boxplot to detect outliers\n",
    "data2.boxplot()\n",
    "plt.show()"
   ]
  },
  {
   "cell_type": "markdown",
   "metadata": {},
   "source": [
    "this shows that X4,X7,X72 has abnomally high values while X13,X19 has abnormally low values"
   ]
  },
  {
   "cell_type": "code",
   "execution_count": null,
   "metadata": {},
   "outputs": [],
   "source": [
    "z = (data2-data2.mean())/data2.std()\n",
    "z"
   ]
  },
  {
   "cell_type": "code",
   "execution_count": null,
   "metadata": {},
   "outputs": [],
   "source": [
    "df_cleaned['z_score_X1'] = z['X1']\n",
    "df_cleaned['z_score_X2'] = z['X2']\n",
    "df_cleaned['z_score_X4'] = z['X4']\n",
    "df_cleaned['z_score_X6'] = z['X6']\n",
    "df_cleaned['z_score_X7'] = z['X7']\n",
    "df_cleaned['z_score_X9'] = z['X9']\n",
    "df_cleaned['z_score_X13'] = z['X13']\n",
    "df_cleaned['z_score_X19'] = z['X19']\n",
    "df_cleaned['z_score_X54'] = z['X54']\n",
    "df_cleaned['z_score_X72'] = z['X72']\n",
    "\n",
    "df_cleaned\n"
   ]
  },
  {
   "cell_type": "code",
   "execution_count": null,
   "metadata": {},
   "outputs": [],
   "source": [
    "df_cleaned = df_cleaned[df_cleaned['z_score_X1'].between(-3, 3)]\n",
    "df_cleaned = df_cleaned[df_cleaned['z_score_X2'].between(-3, 3)]\n",
    "df_cleaned = df_cleaned[df_cleaned['z_score_X4'].between(-3, 3)]\n",
    "df_cleaned = df_cleaned[df_cleaned['z_score_X6'].between(-3, 3)]\n",
    "df_cleaned = df_cleaned[df_cleaned['z_score_X7'].between(-3, 3)]\n",
    "df_cleaned = df_cleaned[df_cleaned['z_score_X9'].between(-3, 3)]\n",
    "df_cleaned = df_cleaned[df_cleaned['z_score_X13'].between(-3, 3)]\n",
    "df_cleaned = df_cleaned[df_cleaned['z_score_X19'].between(-3, 3)]\n",
    "df_cleaned = df_cleaned[df_cleaned['z_score_X54'].between(-3, 3)]\n",
    "df_cleaned = df_cleaned[df_cleaned['z_score_X72'].between(-3, 3)]\n",
    "\n",
    "df_cleaned\n"
   ]
  },
  {
   "cell_type": "code",
   "execution_count": null,
   "metadata": {},
   "outputs": [],
   "source": [
    "df_cleaned = df_cleaned.drop(columns=['z_score_X1', 'z_score_X2', 'z_score_X4', 'z_score_X6', 'z_score_X7', \n",
    "                                      'z_score_X9', 'z_score_X13', 'z_score_X19', 'z_score_X54', 'z_score_X72'], axis=1)\n",
    "\n",
    "df_cleaned\n"
   ]
  },
  {
   "cell_type": "code",
   "execution_count": null,
   "metadata": {},
   "outputs": [],
   "source": [
    "#check any duplicated data\n",
    "dups = df_cleaned.duplicated()\n",
    "print('Number of duplicate rows = %d' % (dups.sum()))"
   ]
  },
  {
   "cell_type": "markdown",
   "metadata": {},
   "source": [
    "# 3. Classification"
   ]
  },
  {
   "cell_type": "code",
   "execution_count": null,
   "metadata": {},
   "outputs": [],
   "source": []
  },
  {
   "cell_type": "code",
   "execution_count": null,
   "metadata": {},
   "outputs": [],
   "source": []
  },
  {
   "cell_type": "markdown",
   "metadata": {},
   "source": []
  }
 ],
 "metadata": {
  "kernelspec": {
   "display_name": "Python 3",
   "language": "python",
   "name": "python3"
  },
  "language_info": {
   "codemirror_mode": {
    "name": "ipython",
    "version": 3
   },
   "file_extension": ".py",
   "mimetype": "text/x-python",
   "name": "python",
   "nbconvert_exporter": "python",
   "pygments_lexer": "ipython3",
   "version": "3.12.1"
  }
 },
 "nbformat": 4,
 "nbformat_minor": 2
}
